{
  "nbformat": 4,
  "nbformat_minor": 0,
  "metadata": {
    "colab": {
      "name": "Intro_python.ipynb",
      "provenance": [],
      "collapsed_sections": []
    },
    "kernelspec": {
      "name": "python3",
      "display_name": "Python 3"
    }
  },
  "cells": [
    {
      "cell_type": "code",
      "metadata": {
        "id": "E3SP19AW7tWX",
        "colab_type": "code",
        "colab": {
          "base_uri": "https://localhost:8080/",
          "height": 34
        },
        "outputId": "14ca331a-f9b6-423d-c084-57654fb8d0dd"
      },
      "source": [
        "print(\"Hello World\")"
      ],
      "execution_count": null,
      "outputs": [
        {
          "output_type": "stream",
          "text": [
            "Hello World\n"
          ],
          "name": "stdout"
        }
      ]
    },
    {
      "cell_type": "code",
      "metadata": {
        "id": "VOqagLyaG1Rh",
        "colab_type": "code",
        "colab": {
          "base_uri": "https://localhost:8080/",
          "height": 85
        },
        "outputId": "ece08465-ce7f-4f0e-fd8b-1f6dae81f1d4"
      },
      "source": [
        "print(\"   /|\")\n",
        "print(\"  / |\")\n",
        "print(\" /  |\")\n",
        "print(\"/___|\")"
      ],
      "execution_count": null,
      "outputs": [
        {
          "output_type": "stream",
          "text": [
            "   /|\n",
            "  / |\n",
            " /  |\n",
            "/___|\n"
          ],
          "name": "stdout"
        }
      ]
    },
    {
      "cell_type": "code",
      "metadata": {
        "id": "HYidz0usKFe0",
        "colab_type": "code",
        "colab": {
          "base_uri": "https://localhost:8080/",
          "height": 85
        },
        "outputId": "811dab9f-1aef-403c-a0d4-15f3949c8560"
      },
      "source": [
        "name = \"Darth Plagueis\"\n",
        "attribute = \"wise\"\n",
        "print(\"Did you ever hear the tragedy of \" + name + \" the \" + attribute + \"?\\nHe was a dark lord of the sith\")\n",
        "\n",
        "name = \"Your mom\"\n",
        "attribute = \"fat\"\n",
        "print(\"Did you ever hear the tragedy of \" + name + \" the \" + attribute + \"?\\nShe was overweight\")"
      ],
      "execution_count": null,
      "outputs": [
        {
          "output_type": "stream",
          "text": [
            "Did you ever hear the tragedy of Darth Plagueis the wise?\n",
            "He was a dark lord of the sith\n",
            "Did you ever hear the tragedy of Your mom the fat?\n",
            "She was overweight\n"
          ],
          "name": "stdout"
        }
      ]
    },
    {
      "cell_type": "code",
      "metadata": {
        "id": "eGLKIVx_NgSz",
        "colab_type": "code",
        "colab": {
          "base_uri": "https://localhost:8080/",
          "height": 153
        },
        "outputId": "ea9a1c6e-a7c3-4475-bbda-44d7ca2d02e3"
      },
      "source": [
        "phrase = \"I am the senate\"\n",
        "print(phrase.upper())\n",
        "print(phrase.isupper())\n",
        "print(phrase.upper().isupper())\n",
        "print(len(phrase))\n",
        "print(phrase[0])\n",
        "print(phrase.index(\"a\"))\n",
        "print(phrase.index(\"senate\"))\n",
        "print(phrase.replace(\"I am\", \"Your mom is\"))"
      ],
      "execution_count": null,
      "outputs": [
        {
          "output_type": "stream",
          "text": [
            "I AM THE SENATE\n",
            "False\n",
            "True\n",
            "15\n",
            "I\n",
            "2\n",
            "9\n",
            "Your mom is the senate\n"
          ],
          "name": "stdout"
        }
      ]
    },
    {
      "cell_type": "code",
      "metadata": {
        "id": "KI0-Ya-8P4Jf",
        "colab_type": "code",
        "colab": {
          "base_uri": "https://localhost:8080/",
          "height": 255
        },
        "outputId": "3ca1d79c-4602-4b25-8a14-e02daa36f057"
      },
      "source": [
        "print(66)\n",
        "print(9 + 10)\n",
        "print(6 * 11)\n",
        "print(4 + 2 * 3)\n",
        "print((4 + 2) * 3)\n",
        "print(22 % 7)\n",
        "\n",
        "num = 66\n",
        "print(\"Execute order \" + str(num))\n",
        "print(pow(66, 66))\n",
        "print(max(66, 501))\n",
        "print(min(66, 501))\n",
        "print(round(314.15))\n",
        "\n",
        "from math import *\n",
        "\n",
        "print(floor(4.5))\n",
        "print(ceil(4.5))\n",
        "print(sqrt(114))"
      ],
      "execution_count": null,
      "outputs": [
        {
          "output_type": "stream",
          "text": [
            "66\n",
            "19\n",
            "66\n",
            "10\n",
            "18\n",
            "1\n",
            "Execute order 66\n",
            "1.2299848035352374e+120\n",
            "501\n",
            "66\n",
            "314\n",
            "4\n",
            "5\n",
            "10.677078252031311\n"
          ],
          "name": "stdout"
        }
      ]
    },
    {
      "cell_type": "code",
      "metadata": {
        "id": "TZ4NMHz8WxHt",
        "colab_type": "code",
        "colab": {
          "base_uri": "https://localhost:8080/",
          "height": 51
        },
        "outputId": "58cf4f26-bf31-428c-acb9-f0b0bdefad35"
      },
      "source": [
        "response = input(\"Execute Order 66\")\n",
        "print(response + \" My lord\")"
      ],
      "execution_count": null,
      "outputs": [
        {
          "output_type": "stream",
          "text": [
            "Execute Order 66It will be done\n",
            "It will be done My lord\n"
          ],
          "name": "stdout"
        }
      ]
    },
    {
      "cell_type": "code",
      "metadata": {
        "id": "9nEdUvhtX3hH",
        "colab_type": "code",
        "colab": {
          "base_uri": "https://localhost:8080/",
          "height": 68
        },
        "outputId": "231d67b1-fc93-4e01-96c0-e171b127f17a"
      },
      "source": [
        "serial_number = input(\"Enter your serial number: \")\n",
        "nickname = input(\"Enter your nickname: \")\n",
        "print(\"You are CT \" + serial_number + \" or \\\"\" + nickname + \"\\\"\")"
      ],
      "execution_count": null,
      "outputs": [
        {
          "output_type": "stream",
          "text": [
            "Enter your serial number: 7567\n",
            "Enter your nickname: Rex\n",
            "You are CT 7567 or \"Rex\"\n"
          ],
          "name": "stdout"
        }
      ]
    },
    {
      "cell_type": "code",
      "metadata": {
        "id": "B5GqWq9XzZVA",
        "colab_type": "code",
        "colab": {
          "base_uri": "https://localhost:8080/",
          "height": 68
        },
        "outputId": "7385f64b-3245-4288-deeb-853c5bdeb702"
      },
      "source": [
        "num1 = input(\"Enter one number: \")\n",
        "num2 = input(\"Enter another number: \")\n",
        "result = float(num1) + float(num2)\n",
        "\n",
        "print(result)"
      ],
      "execution_count": null,
      "outputs": [
        {
          "output_type": "stream",
          "text": [
            "Enter one number: 7\n",
            "Enter another number: 2\n",
            "9.0\n"
          ],
          "name": "stdout"
        }
      ]
    },
    {
      "cell_type": "code",
      "metadata": {
        "id": "YtqhBJ_9WeG3",
        "colab_type": "code",
        "colab": {
          "base_uri": "https://localhost:8080/",
          "height": 119
        },
        "outputId": "3eb6bee4-8952-4e50-f7b0-2c99f44e9a9b"
      },
      "source": [
        "color = input(\"Enter a color: \")\n",
        "plural_noun = input(\"Enter a plural noun: \")\n",
        "celebrity = input(\"Enter a celebrity: \")\n",
        "\n",
        "print(\"Roses are \" + color)\n",
        "print(plural_noun + \" are blue\")\n",
        "print(\"I love \" + celebrity)"
      ],
      "execution_count": null,
      "outputs": [
        {
          "output_type": "stream",
          "text": [
            "Enter a color: Green\n",
            "Enter a plural noun: credits\n",
            "Enter a celebrity: Hayden Christensen\n",
            "Roses are Green\n",
            "credits are blue\n",
            "I love Hayden Christensen\n"
          ],
          "name": "stdout"
        }
      ]
    },
    {
      "cell_type": "code",
      "metadata": {
        "id": "U-FE18iEYZT9",
        "colab_type": "code",
        "colab": {
          "base_uri": "https://localhost:8080/",
          "height": 272
        },
        "outputId": "aaf922fd-b3de-490b-8403-fc61d9890cb5"
      },
      "source": [
        "star_wars_characters = [\"Anakin\", \"Obi-wan\", \"C-3PO\", \"Padme\", \"Rush Clovis\"]\n",
        "prime_numbers = [2, 3, 5, 7, 11, 13, 17, 19]\n",
        "\n",
        "star_wars_characters.sort()\n",
        "print(star_wars_characters)\n",
        "star_wars_characters.reverse()\n",
        "print(star_wars_characters)\n",
        "\n",
        "coolbois = star_wars_characters.copy()\n",
        "print(coolbois)\n",
        "\n",
        "print(star_wars_characters[4])\n",
        "print(star_wars_characters[-4])\n",
        "print(star_wars_characters[3:])\n",
        "print(star_wars_characters[1:4])\n",
        "star_wars_characters[1] = \"Kenobi\"\n",
        "print(star_wars_characters[1])\n",
        "\n",
        "star_wars_characters.extend(prime_numbers)\n",
        "print(star_wars_characters)\n",
        "prime_numbers.append(23)\n",
        "print(prime_numbers)\n",
        "star_wars_characters.insert(2, \"R2D2\")\n",
        "print(star_wars_characters)\n",
        "star_wars_characters.remove(2)\n",
        "print(star_wars_characters)\n",
        "star_wars_characters.clear()\n",
        "print(star_wars_characters)\n",
        "prime_numbers.pop()\n",
        "print(prime_numbers)\n",
        "\n",
        "print(prime_numbers.index(7))"
      ],
      "execution_count": null,
      "outputs": [
        {
          "output_type": "stream",
          "text": [
            "['Anakin', 'C-3PO', 'Obi-wan', 'Padme', 'Rush Clovis']\n",
            "['Rush Clovis', 'Padme', 'Obi-wan', 'C-3PO', 'Anakin']\n",
            "['Rush Clovis', 'Padme', 'Obi-wan', 'C-3PO', 'Anakin']\n",
            "Anakin\n",
            "Padme\n",
            "['C-3PO', 'Anakin']\n",
            "['Padme', 'Obi-wan', 'C-3PO']\n",
            "Kenobi\n",
            "['Rush Clovis', 'Kenobi', 'Obi-wan', 'C-3PO', 'Anakin', 2, 3, 5, 7, 11, 13, 17, 19]\n",
            "[2, 3, 5, 7, 11, 13, 17, 19, 23]\n",
            "['Rush Clovis', 'Kenobi', 'R2D2', 'Obi-wan', 'C-3PO', 'Anakin', 2, 3, 5, 7, 11, 13, 17, 19]\n",
            "['Rush Clovis', 'Kenobi', 'R2D2', 'Obi-wan', 'C-3PO', 'Anakin', 3, 5, 7, 11, 13, 17, 19]\n",
            "[]\n",
            "[2, 3, 5, 7, 11, 13, 17, 19]\n",
            "3\n"
          ],
          "name": "stdout"
        }
      ]
    },
    {
      "cell_type": "code",
      "metadata": {
        "id": "tvYrybxtexgY",
        "colab_type": "code",
        "colab": {}
      },
      "source": [
        "coordinate = (4, 5)\n",
        "print(\"can't change tuple\")"
      ],
      "execution_count": null,
      "outputs": []
    },
    {
      "cell_type": "code",
      "metadata": {
        "id": "mtH0X_Zmf_iw",
        "colab_type": "code",
        "colab": {
          "base_uri": "https://localhost:8080/",
          "height": 34
        },
        "outputId": "2ab40873-e09a-4516-a4b3-592b50b793d0"
      },
      "source": [
        "def sayhellothere (name, attribute):\n",
        "  print(\"Hello there \" + name + \", You are a \" + attribute + \" one\")\n",
        "\n",
        "sayhellothere(\"General Kenobi\", \"bold\")"
      ],
      "execution_count": null,
      "outputs": [
        {
          "output_type": "stream",
          "text": [
            "Hello there General Kenobi, You are a bold one\n"
          ],
          "name": "stdout"
        }
      ]
    },
    {
      "cell_type": "code",
      "metadata": {
        "id": "EITHKmY1kVmn",
        "colab_type": "code",
        "colab": {
          "base_uri": "https://localhost:8080/",
          "height": 51
        },
        "outputId": "8e7eaa35-05c0-4ffc-a688-1b7689d2e060"
      },
      "source": [
        "def cube(number):\n",
        "  return number*number*number\n",
        "\n",
        "result = cube(4)\n",
        "print(result)\n",
        "print(\"you can't put code after return\")"
      ],
      "execution_count": null,
      "outputs": [
        {
          "output_type": "stream",
          "text": [
            "64\n",
            "you can't put code after return\n"
          ],
          "name": "stdout"
        }
      ]
    },
    {
      "cell_type": "code",
      "metadata": {
        "id": "2LeNGS7Jm7_1",
        "colab_type": "code",
        "colab": {
          "base_uri": "https://localhost:8080/",
          "height": 34
        },
        "outputId": "0c9f67ba-1eed-4e38-d977-5dfb5f413c40"
      },
      "source": [
        "is_male = True\n",
        "is_cool = False\n",
        "\n",
        "if is_male and is_cool:\n",
        "  print(\"You're Adam\")\n",
        "elif is_male and not(is_cool):\n",
        "  print(\"you're a dude but not cool\")\n",
        "elif not(is_male) and is_cool:\n",
        "  print(\"You're a cool girl\")\n",
        "else:\n",
        "  print(\"You're aren't Adam\")"
      ],
      "execution_count": null,
      "outputs": [
        {
          "output_type": "stream",
          "text": [
            "you're a dude but not cool\n"
          ],
          "name": "stdout"
        }
      ]
    },
    {
      "cell_type": "code",
      "metadata": {
        "id": "SUwu9eKgpKWF",
        "colab_type": "code",
        "colab": {
          "base_uri": "https://localhost:8080/",
          "height": 34
        },
        "outputId": "544d257d-b36e-41b5-fd03-cfbd246fe81a"
      },
      "source": [
        "def max_num(num1, num2, num3):\n",
        "  if num1 >= num2 and num1 >= num3:\n",
        "    return num1\n",
        "  elif num2 >= num1 and num2 >= num3:\n",
        "    return num2\n",
        "  else:\n",
        "    return num3\n",
        "\n",
        "\n",
        "print(max_num(3, 4, 5))"
      ],
      "execution_count": null,
      "outputs": [
        {
          "output_type": "stream",
          "text": [
            "5\n"
          ],
          "name": "stdout"
        }
      ]
    },
    {
      "cell_type": "code",
      "metadata": {
        "id": "zWEunQMZrlOE",
        "colab_type": "code",
        "colab": {
          "base_uri": "https://localhost:8080/",
          "height": 85
        },
        "outputId": "5ac790dd-7343-4197-e34e-83c81d2c5dd0"
      },
      "source": [
        "num1 = float(input(\"Enter first number: \"))\n",
        "op = input(\"Enter operator: \")\n",
        "num2 = float(input(\"Enter second number: \"))\n",
        "\n",
        "if  op == \"+\":\n",
        "  print(num1 + num2)\n",
        "elif op == \"-\":\n",
        "  print(num1 - num2)\n",
        "elif op == \"/\":\n",
        "  print(num1 / num2)\n",
        "elif op == \"*\":\n",
        "  print(num1 * num2)\n",
        "else: \n",
        "  print (\"invalid operator\")"
      ],
      "execution_count": null,
      "outputs": [
        {
          "output_type": "stream",
          "text": [
            "Enter first number: 7\n",
            "Enter operator: *\n",
            "Enter second number: 2\n",
            "14.0\n"
          ],
          "name": "stdout"
        }
      ]
    },
    {
      "cell_type": "code",
      "metadata": {
        "id": "SFgt5NuatgCJ",
        "colab_type": "code",
        "colab": {
          "base_uri": "https://localhost:8080/",
          "height": 51
        },
        "outputId": "e5298c51-ccfe-482d-96fc-0dff522a3d93"
      },
      "source": [
        "month_conversions = {\n",
        "    \"Jan\": \"January\",\n",
        "    \"Feb\": \"February\",\n",
        "    \"Mar\": \"March\", \n",
        "    \"Apr\": \"April\",\n",
        "}\n",
        "\n",
        "print(month_conversions[\"Feb\"])\n",
        "print(month_conversions.get(\"501\", \"Not a valid key\"))"
      ],
      "execution_count": null,
      "outputs": [
        {
          "output_type": "stream",
          "text": [
            "February\n",
            "Not a valid key\n"
          ],
          "name": "stdout"
        }
      ]
    },
    {
      "cell_type": "code",
      "metadata": {
        "id": "DF90A4M3vY9s",
        "colab_type": "code",
        "colab": {
          "base_uri": "https://localhost:8080/",
          "height": 204
        },
        "outputId": "bf0af6ce-76cf-4edd-9651-17763c641b29"
      },
      "source": [
        "i = 1\n",
        "while i <= 10:\n",
        "  print(i)\n",
        "  i += 1\n",
        "\n",
        "print(\"finito benito\")"
      ],
      "execution_count": null,
      "outputs": [
        {
          "output_type": "stream",
          "text": [
            "1\n",
            "2\n",
            "3\n",
            "4\n",
            "5\n",
            "6\n",
            "7\n",
            "8\n",
            "9\n",
            "10\n",
            "finito benito\n"
          ],
          "name": "stdout"
        }
      ]
    },
    {
      "cell_type": "code",
      "metadata": {
        "id": "q-HbtqVEwq1e",
        "colab_type": "code",
        "colab": {
          "base_uri": "https://localhost:8080/",
          "height": 68
        },
        "outputId": "09b142be-0b5f-4881-a28f-00d55c235006"
      },
      "source": [
        "secret_word = \"giraffe\"\n",
        "guess = \"\"\n",
        "guess_count = 0 \n",
        "guess_limit = 3\n",
        "out_of_guesses = False\n",
        "\n",
        "while guess!= secret_word and not(out_of_guesses):\n",
        "  if guess_count <  guess_limit:\n",
        "    guess = input(\"Enter guess: \")\n",
        "    guess_count += 1\n",
        "  else:\n",
        "    out_of_guesses = True\n",
        "\n",
        "if out_of_guesses:\n",
        "  print(\"Failure!\")  \n",
        "else:\n",
        "  print(\"Ah, victory\")"
      ],
      "execution_count": null,
      "outputs": [
        {
          "output_type": "stream",
          "text": [
            "Enter guess: giraffer\n",
            "Enter guess: giraffe\n",
            "Ah, victory\n"
          ],
          "name": "stdout"
        }
      ]
    },
    {
      "cell_type": "code",
      "metadata": {
        "id": "zasgCXyG0GbF",
        "colab_type": "code",
        "colab": {
          "base_uri": "https://localhost:8080/",
          "height": 561
        },
        "outputId": "2fc3146e-ff21-403e-b13b-6a491630630d"
      },
      "source": [
        "for letter in \"Star Wars\":\n",
        "  print(letter)\n",
        "\n",
        "friends = [\"Junghwan\", \"Zahir\", \"No friends\"]\n",
        "for boi in friends:\n",
        "  print(boi)  \n",
        "\n",
        "for bloop in range(10):\n",
        "  print(bloop)\n",
        "\n",
        "for noob in range(3, 10):\n",
        "  print(noob)\n",
        "\n",
        "for kell in range(len(friends)):\n",
        "  print(friends[kell])"
      ],
      "execution_count": null,
      "outputs": [
        {
          "output_type": "stream",
          "text": [
            "S\n",
            "t\n",
            "a\n",
            "r\n",
            " \n",
            "W\n",
            "a\n",
            "r\n",
            "s\n",
            "Junghwan\n",
            "Zahir\n",
            "No friends\n",
            "0\n",
            "1\n",
            "2\n",
            "3\n",
            "4\n",
            "5\n",
            "6\n",
            "7\n",
            "8\n",
            "9\n",
            "3\n",
            "4\n",
            "5\n",
            "6\n",
            "7\n",
            "8\n",
            "9\n",
            "Junghwan\n",
            "Zahir\n",
            "No friends\n"
          ],
          "name": "stdout"
        }
      ]
    },
    {
      "cell_type": "code",
      "metadata": {
        "id": "7mZ4M-Zp-NKI",
        "colab_type": "code",
        "colab": {
          "base_uri": "https://localhost:8080/",
          "height": 34
        },
        "outputId": "43ccf198-4e16-415f-b254-ae049cba57eb"
      },
      "source": [
        "def raise_to_power(base_num, pow_num):\n",
        "  result = 1\n",
        "  for index in range(pow_num):\n",
        "    result = result * base_num\n",
        "  return result\n",
        "\n",
        "print(raise_to_power(3, 2))"
      ],
      "execution_count": null,
      "outputs": [
        {
          "output_type": "stream",
          "text": [
            "9\n"
          ],
          "name": "stdout"
        }
      ]
    },
    {
      "cell_type": "code",
      "metadata": {
        "id": "1O4Lm93d_x7-",
        "colab_type": "code",
        "colab": {
          "base_uri": "https://localhost:8080/",
          "height": 204
        },
        "outputId": "542d4d75-5655-4158-df58-b68ca5915f82"
      },
      "source": [
        "number_grid = [\n",
        "[1, 2, 3],\n",
        "[4, 5, 6],\n",
        "[7, 8, 9],\n",
        "[0]               \n",
        "]\n",
        "\n",
        "print(number_grid[2][0])\n",
        "\n",
        "for row in number_grid:\n",
        "  for col in row:\n",
        "    print(col)\n"
      ],
      "execution_count": null,
      "outputs": [
        {
          "output_type": "stream",
          "text": [
            "7\n",
            "1\n",
            "2\n",
            "3\n",
            "4\n",
            "5\n",
            "6\n",
            "7\n",
            "8\n",
            "9\n",
            "0\n"
          ],
          "name": "stdout"
        }
      ]
    },
    {
      "cell_type": "code",
      "metadata": {
        "id": "7syQSqLeBU0P",
        "colab_type": "code",
        "colab": {
          "base_uri": "https://localhost:8080/",
          "height": 51
        },
        "outputId": "b7352758-f095-417b-edb3-75ddcfc0b8af"
      },
      "source": [
        "def translate(phrase):\n",
        "  translation = \"\"\n",
        "  for letter in phrase:\n",
        "    if letter.lower() in \"aeiou\":\n",
        "      if letter.isupper():\n",
        "        translation = translation + \"G\"\n",
        "      else:   \n",
        "        translation = translation + \"g\"\n",
        "    else:\n",
        "      translation = translation + letter\n",
        "  return translation\n",
        "\n",
        "print(translate(input(\"Enter a phrase: \")))"
      ],
      "execution_count": null,
      "outputs": [
        {
          "output_type": "stream",
          "text": [
            "Enter a phrase: OH I dont think so \n",
            "GH G dgnt thgnk sg \n"
          ],
          "name": "stdout"
        }
      ]
    },
    {
      "cell_type": "code",
      "metadata": {
        "id": "0KOB1pr2DbTQ",
        "colab_type": "code",
        "colab": {}
      },
      "source": [
        "# Star Wars is the best\n"
      ],
      "execution_count": null,
      "outputs": []
    },
    {
      "cell_type": "code",
      "metadata": {
        "id": "MKx-5Ys4B5Sz",
        "colab_type": "code",
        "colab": {
          "base_uri": "https://localhost:8080/",
          "height": 34
        },
        "outputId": "d36b392f-ddda-4596-e0c5-5f91493345dc"
      },
      "source": [
        "try:\n",
        "  answer = 10/0\n",
        "  number = int(input(\"Enter a number: \"))\n",
        "  print(number)\n",
        "except ZeroDivisionError as err:\n",
        "  print(err)\n",
        "except  ValueError: \n",
        "  print(\"Invalid input\")"
      ],
      "execution_count": null,
      "outputs": [
        {
          "output_type": "stream",
          "text": [
            "division by zero\n"
          ],
          "name": "stdout"
        }
      ]
    },
    {
      "cell_type": "code",
      "metadata": {
        "id": "jqsBp1MDfTvq",
        "colab_type": "code",
        "colab": {
          "base_uri": "https://localhost:8080/",
          "height": 68
        },
        "outputId": "a5743093-ec52-4b9d-ef44-6e52ead4fef3"
      },
      "source": [
        "class Student:\n",
        "  \n",
        "  def __init__(self, name, major, gpa, is_on_probation):\n",
        "    self.name = name\n",
        "    self.major = major\n",
        "    self.gpa = gpa\n",
        "    self.is_on_probation = is_on_probation\n",
        "\n",
        "  def on_honor_roll(self):\n",
        "    if self.gpa >= 3.5:\n",
        "      return True\n",
        "    else:\n",
        "      return False\n",
        "\n",
        "student1 = Student(\"Jim\", \"Business\", 3.1, False)\n",
        "\n",
        "\n",
        "\n",
        "\n",
        "print(student1.name)\n",
        "print(student1.gpa)\n",
        "print(student1.on_honor_roll())\n"
      ],
      "execution_count": null,
      "outputs": [
        {
          "output_type": "stream",
          "text": [
            "Jim\n",
            "3.1\n",
            "False\n"
          ],
          "name": "stdout"
        }
      ]
    },
    {
      "cell_type": "code",
      "metadata": {
        "id": "bY9b_2XhiZ7u",
        "colab_type": "code",
        "colab": {
          "base_uri": "https://localhost:8080/",
          "height": 340
        },
        "outputId": "d0cf48dd-a7c1-4e50-918d-df050ffda9a6"
      },
      "source": [
        "class Question:\n",
        "  def __init__(self, prompt, answer):\n",
        "    self.prompt = prompt\n",
        "    self.answer = answer\n",
        "\n",
        "question_prompts = [\n",
        "  \"Who is Anakin's Mother?\\n(a) Shmi\\n(b) Leia\\n(c) Beru\\n\\n\", \n",
        "  \"What jedi is Obi-wan in TPM?\\n(a) Master\\n(b) Knight\\n(c) Padawan\\n\\n\",\n",
        "  \"What year does ROTS take place?\\n(a) 22 BBY\\n(b) 19 BBY\\n(c) 4 ABY\\n\\n\"                  \n",
        "]\n",
        "\n",
        "questions = [\n",
        "  Question(question_prompts[0], \"a\"),  \n",
        "  Question(question_prompts[1], \"c\"),         \n",
        "  Question(question_prompts[2], \"b\"), \n",
        "]\n",
        "\n",
        "def run_test(questions):\n",
        "  score = 0\n",
        "  for question in questions:\n",
        "    answer = input(question.prompt)\n",
        "    if answer == question.answer:\n",
        "      score += 1\n",
        "  print(\"You got \" + str(score) + \"/\" + str(len(questions)) + \" correct\")\n",
        "\n",
        "run_test(questions)"
      ],
      "execution_count": null,
      "outputs": [
        {
          "output_type": "stream",
          "text": [
            "Who is Anakin's Mother?\n",
            "(a) Shmi\n",
            "(b) Leia\n",
            "(c) Beru\n",
            "\n",
            "a\n",
            "What jedi is Obi-wan in TPM?\n",
            "(a) Master\n",
            "(b) Knight\n",
            "(c) Padawan\n",
            "\n",
            "c\n",
            "What year does ROTS take place?\n",
            "(a) 22 BBY\n",
            "(b) 19 BBY\n",
            "(c) 4 ABY\n",
            "\n",
            "b\n",
            "You got 3/3 correct\n"
          ],
          "name": "stdout"
        }
      ]
    },
    {
      "cell_type": "code",
      "metadata": {
        "id": "sk9UjzHlg03B",
        "colab_type": "code",
        "colab": {}
      },
      "source": [
        ""
      ],
      "execution_count": null,
      "outputs": []
    }
  ]
}